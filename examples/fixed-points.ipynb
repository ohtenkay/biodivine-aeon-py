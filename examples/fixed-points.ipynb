{
 "cells": [
  {
   "cell_type": "markdown",
   "id": "7fa86d4a-2c96-44d0-8278-888d4e45f206",
   "metadata": {},
   "source": [
    "# Fixed-points of Boolean networks\n",
    "\n",
    "AEON.py includes methods for (relatively) efficient symbolic computation of all model fixed-points. \n",
    "Note that if you are only interested in *some* fixed-points, for very large models, it's probably \n",
    "faster to use some kind of SAT/ASP based method. However, if you need to further manipulate the \n",
    "set of fixed-points or compute it's cardinality, it might be infeasible to enumerate them all \n",
    "using a solver. That's where AEON.py comes in.\n",
    "\n",
    "> To execute this notebook, you'll need some functionality that is currently available only in \n",
    "  a pre-release version of AEON.py. Please make sure you have at least version `0.2.0a4` installed\n",
    "  (`pip install biodivine_aeon==0.2.0a4`). Once final `0.2.0` becomes generally available later in 2023, \n",
    "  you can just use that.\n",
    "  "
   ]
  },
  {
   "cell_type": "markdown",
   "id": "d01fd8bf-9ffd-43a9-8e65-4dce273ca544",
   "metadata": {},
   "source": [
    "To test the feature, we'll use models from the [BBM benchmark](https://github.com/sybila/biodivine-boolean-models). \n",
    "Alternatively, you can use any `.aeon`, `.sbml` or `.bnet` model. Just be aware that various authors tend to \n",
    "represent model inputs (constant variables with no regulations) differently. So if the results seem abnormal \n",
    "for your model, try to see if inputs are correctly recognized (although this shouldn't matter for fixed-points\n",
    "as much as for other verification problems). BBM already does a decent job at cleaning this up,\n",
    "but if you use models from some other sources, you're on your own ;)"
   ]
  },
  {
   "cell_type": "code",
   "execution_count": 1,
   "id": "1b732db9-2cfd-4753-bb6b-f7a1703d46b3",
   "metadata": {},
   "outputs": [],
   "source": [
    "import subprocess\n",
    "import os\n",
    "import time\n",
    "from biodivine_aeon import *"
   ]
  },
  {
   "cell_type": "code",
   "execution_count": 2,
   "id": "94b1aac4-44b7-47e1-adcf-3f246d844c6f",
   "metadata": {},
   "outputs": [],
   "source": [
    "# Quitely fetch BBM models and unzip them into `models` directory.\n",
    "subprocess.run([\"wget\", \"-q\", \"-N\", \"https://github.com/sybila/biodivine-boolean-models/releases/download/august-2022/edition-2022-aeon.zip\"])\n",
    "subprocess.run([\"unzip\", \"-q\", \"-o\", \"-j\", \"edition-2022-aeon.zip\", \"-d\", \"models\"]);"
   ]
  },
  {
   "cell_type": "code",
   "execution_count": 3,
   "id": "1c2786d0-373b-4a65-9ab6-6b8bd85cd6d5",
   "metadata": {},
   "outputs": [
    {
     "data": {
      "text/plain": [
       "[BooleanNetwork(variables = 321, parameters = 0, regulations = 533),\n",
       " BooleanNetwork(variables = 139, parameters = 0, regulations = 557),\n",
       " BooleanNetwork(variables = 20, parameters = 0, regulations = 51),\n",
       " BooleanNetwork(variables = 247, parameters = 0, regulations = 1100),\n",
       " BooleanNetwork(variables = 28, parameters = 0, regulations = 123),\n",
       " BooleanNetwork(variables = 68, parameters = 0, regulations = 103),\n",
       " BooleanNetwork(variables = 5, parameters = 0, regulations = 14),\n",
       " BooleanNetwork(variables = 28, parameters = 0, regulations = 45),\n",
       " BooleanNetwork(variables = 73, parameters = 0, regulations = 114),\n",
       " BooleanNetwork(variables = 15, parameters = 0, regulations = 37)]"
      ]
     },
     "execution_count": 3,
     "metadata": {},
     "output_type": "execute_result"
    }
   ],
   "source": [
    "# Load all networks (the directory also contains a summary .csv file and metadata.json, so we want to skip that).\n",
    "# Since the OS can return the files in arbitrary order, we want to sort them to preserve the expected benchmark order.\n",
    "model_files = [ x for x in os.listdir(\"models\") if x.endswith(\".aeon\") ]\n",
    "model_files = sorted(model_files, key=lambda x: int(x.replace(\".aeon\", \"\")))\n",
    "models = [ BooleanNetwork.from_file(f\"models/{file}\") for file in model_files ]\n",
    "models[:10]"
   ]
  },
  {
   "cell_type": "markdown",
   "id": "a4fe4ecb-4c38-4586-8176-23742b3de570",
   "metadata": {},
   "source": [
    "#### Input inlining (optional)\n",
    "\n",
    "At this point, all model inputs are represented as variables with constant update functions\n",
    "(this representation has the best compatibility with other tools). However, this is a bit \n",
    "inefficient for BDD representation. We can ask AEON to automatically recognize constant input \n",
    "variables and turn them into parameters. Overall, this is probably not going to turn an unsolvable\n",
    "problem into a solvable one, but can still save you some computation time (and quite a bit of RAM\n",
    "for larger models).\n",
    " \n",
    "However, keep in mind that AEON refers to such parameter valuations as colors: so the result\n",
    "won't be just a set of states, but a relation over states and colors. If you don't perform this\n",
    "transformation, you don't have to worry about colors: your models won't contain any, all information will be part of the network state."
   ]
  },
  {
   "cell_type": "code",
   "execution_count": 4,
   "id": "48c8d29e-87c6-407f-8587-41c44bb8f747",
   "metadata": {},
   "outputs": [
    {
     "data": {
      "text/plain": [
       "[BooleanNetwork(variables = 302, parameters = 19, regulations = 407),\n",
       " BooleanNetwork(variables = 130, parameters = 9, regulations = 540),\n",
       " BooleanNetwork(variables = 19, parameters = 1, regulations = 48),\n",
       " BooleanNetwork(variables = 225, parameters = 22, regulations = 1058),\n",
       " BooleanNetwork(variables = 28, parameters = 0, regulations = 123),\n",
       " BooleanNetwork(variables = 62, parameters = 6, regulations = 96),\n",
       " BooleanNetwork(variables = 5, parameters = 0, regulations = 14),\n",
       " BooleanNetwork(variables = 25, parameters = 3, regulations = 41),\n",
       " BooleanNetwork(variables = 60, parameters = 13, regulations = 69),\n",
       " BooleanNetwork(variables = 13, parameters = 2, regulations = 35)]"
      ]
     },
     "execution_count": 4,
     "metadata": {},
     "output_type": "execute_result"
    }
   ],
   "source": [
    "models = [ model.inline_inputs() for model in models ]\n",
    "models[:10]"
   ]
  },
  {
   "cell_type": "markdown",
   "id": "9c050d79-ec60-47b2-800f-44e86f880715",
   "metadata": {},
   "source": [
    "We can see that now the networks also contain parameters, but the sum of `parameters` and `variables` \n",
    "is the same as for the original model (the number of regulations decreased because influence from \n",
    "parameters does not count towards regulations right now). However, the transition systems of these new \n",
    "networks should be isomorphic to the old ones, it's only a change in encoding.\n",
    "\n",
    " > Note that not all inputs are always safe to inline. While this is largely an edge-case, if the input `I` \n",
    "   regulates variable `V` but does not actually appear *in* the update function of `V`, inlining it would\n",
    "   erase it from the model completely, in which case we don't do it (while this sounds absurd, this actually\n",
    "   appears in some models).\n",
    "\n",
    "Finally, we have to build the state-transition graphs for each model (these effectively \"manage\" the\n",
    "symbolic encoding; `BooleanNetwork` only represents the model)."
   ]
  },
  {
   "cell_type": "code",
   "execution_count": 5,
   "id": "4bdee3a4-403e-460c-98c9-fe85f6a33aaf",
   "metadata": {},
   "outputs": [],
   "source": [
    "STGs = [ SymbolicAsyncGraph(model) for model in models ]"
   ]
  },
  {
   "cell_type": "markdown",
   "id": "8118a501-5248-4cb8-b338-3a46d845a434",
   "metadata": {},
   "source": [
    "### Solver-based fixed-point detection\n",
    "\n",
    "First, we show how to use a solver in AEON.py to detect fixed-points. Internally, this uses Z3, \n",
    "which is a bit of an overkill for this kind of task but is relatively reliable and easy to integrate. \n",
    "\n",
    " > The solver is baked into AEON.py, so you don't have to install Z3 independently.\n",
    "\n",
    " > WARNING: Right now, the result is exported to Python as a list, not an iterator. Internally \n",
    "   (in Rust), the result is an iterator, but I didn't have time to export it to Python as a proper\n",
    "   iterator too. Just keep in mind that all results have to fit into memory in this case. If this\n",
    "   is a limitation for you (i.e. you want a true iterator), get it touch and I will add it."
   ]
  },
  {
   "cell_type": "code",
   "execution_count": 6,
   "id": "27e298d5-dbc0-448d-8729-96327c6426b8",
   "metadata": {},
   "outputs": [
    {
     "name": "stdout",
     "output_type": "stream",
     "text": [
      "[302;19] Found 10 fixed-points in 0.05s.\n",
      "[130;9] Found 10 fixed-points in 0.15s.\n",
      "[19;1] Found 3 fixed-points in 0.01s.\n",
      "[225;22] Found 10 fixed-points in 0.37s.\n",
      "[28;0] Found 0 fixed-points in 0.02s.\n",
      "[62;6] Found 10 fixed-points in 0.02s.\n",
      "[5;0] Found 2 fixed-points in 0.01s.\n",
      "[25;3] Found 10 fixed-points in 0.02s.\n",
      "[60;13] Found 10 fixed-points in 0.02s.\n",
      "[13;2] Found 6 fixed-points in 0.01s.\n",
      "[40;4] Found 10 fixed-points in 0.02s.\n",
      "[94;7] Found 10 fixed-points in 0.03s.\n",
      "[32;2] Found 4 fixed-points in 0.01s.\n",
      "[54;7] Found 10 fixed-points in 0.03s.\n",
      "[14;2] Found 2 fixed-points in 0.01s.\n",
      "[104;14] Found 10 fixed-points in 0.02s.\n",
      "[41;9] Found 10 fixed-points in 0.02s.\n",
      "[76;28] Found 10 fixed-points in 0.02s.\n",
      "[71;15] Found 10 fixed-points in 0.02s.\n",
      "[39;2] Found 0 fixed-points in 0.01s.\n"
     ]
    }
   ],
   "source": [
    "for stg in STGs[:20]:\n",
    "    start = time.time()\n",
    "    fixed_point_list = FixedPoints.solver_list(stg, limit=10)\n",
    "    print(f\"[{stg.network().num_vars()};{stg.network().num_parameters()}] Found {len(fixed_point_list)} fixed-points in {round(time.time() - start, 2)}s.\")"
   ]
  },
  {
   "cell_type": "markdown",
   "id": "e5e73b00-bce0-45ba-8ea3-1014445cc7e4",
   "metadata": {},
   "source": [
    "Note that the results of this enumeration (members of the list) are still symbolic sets. They just all \n",
    "contian a single state and a single color. This is mostly to ensure compatibility with other parts \n",
    "of the AEON.py API. This means you can treat them as sets and perform operations like \n",
    "`union` or `intersection` on them."
   ]
  },
  {
   "cell_type": "markdown",
   "id": "75574201-7eec-4e1d-85ae-c195f162f6d5",
   "metadata": {},
   "source": [
    "### Symbolic fixed-point detection\n",
    "\n",
    "If a network has *a lot* of fixed-points, it might not be possible to enumerate them all using a solver. \n",
    "That's where a symbolic algorithm can be useful, but keep in mind that the computation can take much \n",
    "longer for large networks.\n",
    "\n",
    " > The numbers below are from an i7-4790 with 32GB of DDR3. This is an almost 10-year-old CPU, so\n",
    "   unless you are running this on Raspberry Pi, your results should probably come out similar or better :) \n",
    "   Also, for the vast majority of networks, 4-8GB of RAM or even less should be fine.\n",
    "   \n",
    " > If you want to compare to a more recent CPU, `fixed-points-symbolic.csv` contains results for all models\n",
    "   from a Ryzen 5800X. As you can see, the vast majority of models finished within a few seconds, but there are\n",
    "   some outliers that need ~1h to complete (these have more than 2^100 fixed-points though)."
   ]
  },
  {
   "cell_type": "code",
   "execution_count": 7,
   "id": "5837a85b-4995-4656-9db6-6197ae7f0349",
   "metadata": {},
   "outputs": [
    {
     "name": "stdout",
     "output_type": "stream",
     "text": [
      "[302;19] Found 471040 fixed-points in 16.53s.\n",
      "[130;9] Found 32768 fixed-points in 0.22s.\n",
      "[19;1] Found 3 fixed-points in 0.0s.\n",
      "[225;22] Found 3005341696 fixed-points in 2.19s.\n",
      "[28;0] Found 0 fixed-points in 0.0s.\n",
      "[62;6] Found 72 fixed-points in 0.03s.\n",
      "[5;0] Found 2 fixed-points in 0.0s.\n",
      "[25;3] Found 27 fixed-points in 0.0s.\n",
      "[60;13] Found 4096 fixed-points in 0.03s.\n",
      "[13;2] Found 6 fixed-points in 0.0s.\n",
      "[40;4] Found 16 fixed-points in 0.0s.\n",
      "[94;7] Found 104 fixed-points in 0.1s.\n",
      "[32;2] Found 4 fixed-points in 0.0s.\n",
      "[54;7] Found 172 fixed-points in 0.02s.\n",
      "[14;2] Found 2 fixed-points in 0.0s.\n",
      "[104;14] Found 16384 fixed-points in 0.06s.\n",
      "[41;9] Found 2050 fixed-points in 0.02s.\n",
      "[76;28] Found 197132288 fixed-points in 0.17s.\n",
      "[71;15] Found 28672 fixed-points in 0.06s.\n",
      "[39;2] Found 0 fixed-points in 0.0s.\n",
      "[14;3] Found 10 fixed-points in 0.0s.\n",
      "[17;5] Found 58 fixed-points in 0.0s.\n",
      "[9;1] Found 1 fixed-points in 0.0s.\n",
      "[16;4] Found 20 fixed-points in 0.0s.\n",
      "[54;6] Found 82 fixed-points in 0.02s.\n",
      "[18;0] Found 0 fixed-points in 0.0s.\n",
      "[12;14] Found 13056 fixed-points in 0.0s.\n",
      "[10;8] Found 256 fixed-points in 0.0s.\n",
      "[9;2] Found 4 fixed-points in 0.0s.\n",
      "[18;6] Found 64 fixed-points in 0.0s.\n",
      "[9;0] Found 1 fixed-points in 0.0s.\n",
      "[37;3] Found 7 fixed-points in 0.0s.\n",
      "[19;5] Found 1672 fixed-points in 0.0s.\n",
      "[19;4] Found 2363 fixed-points in 0.0s.\n",
      "[11;5] Found 253 fixed-points in 0.0s.\n",
      "[11;5] Found 274 fixed-points in 0.0s.\n",
      "[11;5] Found 702 fixed-points in 0.0s.\n",
      "[21;4] Found 3185 fixed-points in 0.0s.\n",
      "[128;10] Found 39424 fixed-points in 0.92s.\n",
      "[19;4] Found 33 fixed-points in 0.0s.\n",
      "[120;11] Found 10088 fixed-points in 0.62s.\n",
      "[14;10] Found 1024 fixed-points in 0.0s.\n",
      "[33;0] Found 3 fixed-points in 0.0s.\n",
      "[25;1] Found 6 fixed-points in 0.0s.\n",
      "[11;13] Found 8192 fixed-points in 0.0s.\n",
      "[52;1] Found 30 fixed-points in 0.04s.\n",
      "[14;9] Found 512 fixed-points in 0.0s.\n",
      "[55;18] Found 345152 fixed-points in 0.02s.\n",
      "[18;1] Found 1 fixed-points in 0.0s.\n",
      "[154;34] Found 215215046656 fixed-points in 74.0s.\n"
     ]
    }
   ],
   "source": [
    "for stg in STGs[:50]:\n",
    "    if stg.network().num_parameters() > 50:\n",
    "        # A large number of parameters typically means a large number of\n",
    "        # fixed-points and a long computation. For demonstration purposes,\n",
    "        # we can skip those. \n",
    "        print(f\"[{stg.network().num_vars()};{stg.network().num_parameters()}] Skipped.\", flush=True)\n",
    "        continue\n",
    "    start = time.time()\n",
    "    fixed_points = FixedPoints.symbolic(stg)\n",
    "    print(f\"[{stg.network().num_vars()};{stg.network().num_parameters()}] Found {int(fixed_points.cardinality())} fixed-points in {round(time.time() - start, 2)}s.\", flush=True)"
   ]
  },
  {
   "cell_type": "markdown",
   "id": "956b944d-28a6-4b2f-9fba-16d719493fc2",
   "metadata": {},
   "source": [
    "You can also use a `restriction` parameter (this can be any symbolic `ColoredVertexSet`) that restricts the search only to this particular subset of the state space:"
   ]
  },
  {
   "cell_type": "code",
   "execution_count": 8,
   "id": "799216b8-3ba9-4a9b-b70f-feb15de915ef",
   "metadata": {},
   "outputs": [
    {
     "data": {
      "text/plain": [
       "['v_APAF1',\n",
       " 'v_APAF1_CYCS',\n",
       " 'v_APAF1gene',\n",
       " 'v_ATF2',\n",
       " 'v_Apoptosis',\n",
       " 'v_Apoptosome',\n",
       " 'v_BAD',\n",
       " 'v_BAG4',\n",
       " 'v_BAG4_TNFRSF1A',\n",
       " 'v_BAK1']"
      ]
     },
     "execution_count": 8,
     "metadata": {},
     "output_type": "execute_result"
    }
   ],
   "source": [
    "stg = STGs[0]\n",
    "model = stg.network()\n",
    "[model.get_variable_name(x) for x in model.variables()][:10]"
   ]
  },
  {
   "cell_type": "markdown",
   "id": "056a7f13-afb8-445c-b264-00e6892bae7e",
   "metadata": {},
   "source": [
    "For example, here we test if the absence of `BAK1` has an impact on the presence of `Apoptosis` \n",
    "in model fixed-points, and as it turns out, it does:"
   ]
  },
  {
   "cell_type": "code",
   "execution_count": 9,
   "id": "dd2a4ada-b190-4f4d-976c-7d7a4c2912ff",
   "metadata": {},
   "outputs": [
    {
     "name": "stdout",
     "output_type": "stream",
     "text": [
      "[302;19] Found 159520 fixed-points in 8.17s.\n",
      "[302;19] Found 69856 fixed-points in 2.6s.\n"
     ]
    }
   ],
   "source": [
    "symbolic_space = stg.fix_subspace({ \"v_BAK1\": False, \"v_Apoptosis\": True })\n",
    "start = time.time()\n",
    "fixed_points = FixedPoints.symbolic(stg, restriction=symbolic_space)\n",
    "print(f\"[{stg.network().num_vars()};{stg.network().num_parameters()}] Found {int(fixed_points.cardinality())} fixed-points in {round(time.time() - start, 2)}s.\", flush=True)\n",
    "\n",
    "symbolic_space = stg.fix_subspace({ \"v_BAK1\": False, \"v_Apoptosis\": False })\n",
    "start = time.time()\n",
    "fixed_points = FixedPoints.symbolic(stg, restriction=symbolic_space)\n",
    "print(f\"[{stg.network().num_vars()};{stg.network().num_parameters()}] Found {int(fixed_points.cardinality())} fixed-points in {round(time.time() - start, 2)}s.\", flush=True)"
   ]
  },
  {
   "cell_type": "markdown",
   "id": "83d65246-3049-436e-8f4f-d0051d639422",
   "metadata": {},
   "source": [
    "Note that if you already have the complete symbolic set of fixed-points, you can get the same result \n",
    "just by intersecting it with the `symbolic_space`. But as you can see, if you add enough restrictions,\n",
    "it might be faster to just compute the two results independently."
   ]
  },
  {
   "cell_type": "markdown",
   "id": "6f82ea0e-b601-481c-8349-51f7cc413f1f",
   "metadata": {},
   "source": [
    "#### Projections\n",
    "\n",
    "In some instances, you only care about the fixed-point states (without the colors; i.e. input valuations), \n",
    "or about fixed-point colors (input valuations that admit existence of *some* fixed-point). In these cases,\n",
    "you can use a projection to only obtain this particular part of the result. In most cases, this is measurably\n",
    "faster than computing the full result."
   ]
  },
  {
   "cell_type": "code",
   "execution_count": 10,
   "id": "3d3b437d-f743-4187-933f-3f5c1e6730af",
   "metadata": {},
   "outputs": [
    {
     "name": "stdout",
     "output_type": "stream",
     "text": [
      "[302;19]\n",
      " > 210944/8148143905337944345073782753637512644205873574663745002544561797417525199053346824733589504 fixed-point vertices (states).\n",
      " > 458752/524288 colors (input valuations).\n",
      " > Elapsed: 16.02s.\n",
      "[130;9]\n",
      " > 7488/1361129467683753853853498429727072845824 fixed-point vertices (states).\n",
      " > 32/512 colors (input valuations).\n",
      " > Elapsed: 0.37s.\n",
      "[19;1]\n",
      " > 3/524288 fixed-point vertices (states).\n",
      " > 2/2 colors (input valuations).\n",
      " > Elapsed: 0.0s.\n",
      "[225;22]\n",
      " > 2661504/53919893334301279589334030174039261347274288845081144962207220498432 fixed-point vertices (states).\n",
      " > 446720/4194304 colors (input valuations).\n",
      " > Elapsed: 2.69s.\n",
      "[28;0]\n",
      " > 0/268435456 fixed-point vertices (states).\n",
      " > 0/1 colors (input valuations).\n",
      " > Elapsed: 0.0s.\n",
      "[62;6]\n",
      " > 13/4611686018427387904 fixed-point vertices (states).\n",
      " > 64/64 colors (input valuations).\n",
      " > Elapsed: 0.03s.\n",
      "[5;0]\n",
      " > 2/32 fixed-point vertices (states).\n",
      " > 1/1 colors (input valuations).\n",
      " > Elapsed: 0.0s.\n",
      "[25;3]\n",
      " > 16/33554432 fixed-point vertices (states).\n",
      " > 8/8 colors (input valuations).\n",
      " > Elapsed: 0.0s.\n",
      "[60;13]\n",
      " > 192/1152921504606846976 fixed-point vertices (states).\n",
      " > 4096/8192 colors (input valuations).\n",
      " > Elapsed: 0.04s.\n",
      "[13;2]\n",
      " > 6/8192 fixed-point vertices (states).\n",
      " > 4/4 colors (input valuations).\n",
      " > Elapsed: 0.0s.\n",
      "[40;4]\n",
      " > 4/1099511627776 fixed-point vertices (states).\n",
      " > 8/16 colors (input valuations).\n",
      " > Elapsed: 0.01s.\n",
      "[94;7]\n",
      " > 56/19807040628566084398385987584 fixed-point vertices (states).\n",
      " > 104/128 colors (input valuations).\n",
      " > Elapsed: 0.1s.\n",
      "[32;2]\n",
      " > 3/4294967296 fixed-point vertices (states).\n",
      " > 4/4 colors (input valuations).\n",
      " > Elapsed: 0.0s.\n",
      "[54;7]\n",
      " > 11/18014398509481984 fixed-point vertices (states).\n",
      " > 128/128 colors (input valuations).\n",
      " > Elapsed: 0.03s.\n",
      "[14;2]\n",
      " > 1/16384 fixed-point vertices (states).\n",
      " > 2/4 colors (input valuations).\n",
      " > Elapsed: 0.0s.\n",
      "[104;14]\n",
      " > 36/20282409603651670423947251286016 fixed-point vertices (states).\n",
      " > 16384/16384 colors (input valuations).\n",
      " > Elapsed: 0.08s.\n",
      "[41;9]\n",
      " > 1510/2199023255552 fixed-point vertices (states).\n",
      " > 512/512 colors (input valuations).\n",
      " > Elapsed: 0.02s.\n",
      "[76;28]\n",
      " > 3780/75557863725914323419136 fixed-point vertices (states).\n",
      " > 197132288/268435456 colors (input valuations).\n",
      " > Elapsed: 0.07s.\n",
      "[71;15]\n",
      " > 16/2361183241434822606848 fixed-point vertices (states).\n",
      " > 28672/32768 colors (input valuations).\n",
      " > Elapsed: 0.06s.\n",
      "[39;2]\n",
      " > 0/549755813888 fixed-point vertices (states).\n",
      " > 0/4 colors (input valuations).\n",
      " > Elapsed: 0.01s.\n",
      "[14;3]\n",
      " > 5/16384 fixed-point vertices (states).\n",
      " > 8/8 colors (input valuations).\n",
      " > Elapsed: 0.0s.\n",
      "[17;5]\n",
      " > 58/131072 fixed-point vertices (states).\n",
      " > 32/32 colors (input valuations).\n",
      " > Elapsed: 0.0s.\n",
      "[9;1]\n",
      " > 1/512 fixed-point vertices (states).\n",
      " > 1/2 colors (input valuations).\n",
      " > Elapsed: 0.0s.\n",
      "[16;4]\n",
      " > 8/65536 fixed-point vertices (states).\n",
      " > 15/16 colors (input valuations).\n",
      " > Elapsed: 0.0s.\n",
      "[54;6]\n",
      " > 5/18014398509481984 fixed-point vertices (states).\n",
      " > 64/64 colors (input valuations).\n",
      " > Elapsed: 0.03s.\n",
      "[18;0]\n",
      " > 0/262144 fixed-point vertices (states).\n",
      " > 0/1 colors (input valuations).\n",
      " > Elapsed: 0.0s.\n",
      "[12;14]\n",
      " > 10/4096 fixed-point vertices (states).\n",
      " > 13056/16384 colors (input valuations).\n",
      " > Elapsed: 0.0s.\n",
      "[10;8]\n",
      " > 5/1024 fixed-point vertices (states).\n",
      " > 256/256 colors (input valuations).\n",
      " > Elapsed: 0.0s.\n",
      "[9;2]\n",
      " > 3/512 fixed-point vertices (states).\n",
      " > 4/4 colors (input valuations).\n",
      " > Elapsed: 0.0s.\n",
      "[18;6]\n",
      " > 42/262144 fixed-point vertices (states).\n",
      " > 64/64 colors (input valuations).\n",
      " > Elapsed: 0.0s.\n",
      "[9;0]\n",
      " > 1/512 fixed-point vertices (states).\n",
      " > 1/1 colors (input valuations).\n",
      " > Elapsed: 0.0s.\n",
      "[37;3]\n",
      " > 3/137438953472 fixed-point vertices (states).\n",
      " > 7/8 colors (input valuations).\n",
      " > Elapsed: 0.0s.\n",
      "[19;5]\n",
      " > 139/524288 fixed-point vertices (states).\n",
      " > 32/32 colors (input valuations).\n",
      " > Elapsed: 0.0s.\n",
      "[19;4]\n",
      " > 212/524288 fixed-point vertices (states).\n",
      " > 16/16 colors (input valuations).\n",
      " > Elapsed: 0.0s.\n",
      "[11;5]\n",
      " > 28/2048 fixed-point vertices (states).\n",
      " > 32/32 colors (input valuations).\n",
      " > Elapsed: 0.0s.\n",
      "[11;5]\n",
      " > 17/2048 fixed-point vertices (states).\n",
      " > 32/32 colors (input valuations).\n",
      " > Elapsed: 0.0s.\n",
      "[11;5]\n",
      " > 31/2048 fixed-point vertices (states).\n",
      " > 32/32 colors (input valuations).\n",
      " > Elapsed: 0.0s.\n",
      "[21;4]\n",
      " > 412/2097152 fixed-point vertices (states).\n",
      " > 16/16 colors (input valuations).\n",
      " > Elapsed: 0.0s.\n",
      "[128;10]\n",
      " > 576/340282366920938463463374607431768211456 fixed-point vertices (states).\n",
      " > 16384/16384 colors (input valuations).\n",
      " > Elapsed: 0.72s.\n",
      "[19;4]\n",
      " > 29/524288 fixed-point vertices (states).\n",
      " > 16/16 colors (input valuations).\n",
      " > Elapsed: 0.0s.\n",
      "[120;11]\n",
      " > 329/1329227995784915872903807060280344576 fixed-point vertices (states).\n",
      " > 2046/2048 colors (input valuations).\n",
      " > Elapsed: 1.37s.\n",
      "[14;10]\n",
      " > 62/16384 fixed-point vertices (states).\n",
      " > 1024/1024 colors (input valuations).\n",
      " > Elapsed: 0.0s.\n",
      "[33;0]\n",
      " > 3/8589934592 fixed-point vertices (states).\n",
      " > 1/1 colors (input valuations).\n",
      " > Elapsed: 0.01s.\n",
      "[25;1]\n",
      " > 6/33554432 fixed-point vertices (states).\n",
      " > 2/2 colors (input valuations).\n",
      " > Elapsed: 0.0s.\n",
      "[11;13]\n",
      " > 12/2048 fixed-point vertices (states).\n",
      " > 8192/8192 colors (input valuations).\n",
      " > Elapsed: 0.0s.\n",
      "[52;1]\n",
      " > 30/4503599627370496 fixed-point vertices (states).\n",
      " > 2/2 colors (input valuations).\n",
      " > Elapsed: 0.05s.\n",
      "[14;9]\n",
      " > 13/16384 fixed-point vertices (states).\n",
      " > 512/512 colors (input valuations).\n",
      " > Elapsed: 0.0s.\n",
      "[55;18]\n",
      " > 10332/36028797018963968 fixed-point vertices (states).\n",
      " > 262144/262144 colors (input valuations).\n",
      " > Elapsed: 0.02s.\n",
      "[18;1]\n",
      " > 1/262144 fixed-point vertices (states).\n",
      " > 1/2 colors (input valuations).\n",
      " > Elapsed: 0.0s.\n",
      "[154;34]\n",
      " > 17099776/22835963083295358096932575511191922182123945984 fixed-point vertices (states).\n",
      " > 17179869184/17179869184 colors (input valuations).\n",
      " > Elapsed: 51.03s.\n"
     ]
    }
   ],
   "source": [
    "for stg in STGs[:50]:\n",
    "    if stg.network().num_parameters() > 50:\n",
    "        # A large number of parameters typically means a large number of\n",
    "        # fixed-points and a long computation. For demonstration purposes,\n",
    "        # we can skip those. \n",
    "        print(f\"[{stg.network().num_vars()};{stg.network().num_parameters()}] Skipped.\", flush=True)\n",
    "        continue\n",
    "    start = time.time()\n",
    "    fixed_points = FixedPoints.symbolic_vertices(stg)\n",
    "    fixed_point_colors = FixedPoints.symbolic_colors(stg)\n",
    "    print(f\"[{stg.network().num_vars()};{stg.network().num_parameters()}]\", flush=True)\n",
    "    print(f\" > {int(fixed_points.cardinality())}/{int(stg.unit_colored_vertices().vertices().cardinality())} fixed-point vertices (states).\")\n",
    "    print(f\" > {int(fixed_point_colors.cardinality())}/{int(stg.unit_colors().cardinality())} colors (input valuations).\")\n",
    "    print(f\" > Elapsed: {round(time.time() - start, 2)}s.\")"
   ]
  },
  {
   "cell_type": "markdown",
   "id": "8ad52a5e-c47b-4c88-88cb-16bd07368005",
   "metadata": {},
   "source": [
    "As always with projections, keep in mind that the set of fixed points is more complex than just \n",
    "the product of the vertex and color projection.\n",
    "\n",
    "Right now, we can only do projections to vertices (`VertexSet`) and colors (`ColorSet`). However, the underlying Rust code\n",
    "can actually do projections to any subset of variables or parameters. The main limitation is that\n",
    "we don't have a type safe way of manipulating such projections yet (e.g. what is the result of a union between a \"general\" symbolic set\n",
    "and a projection? Should this even be allowed?), so it is only an \"unsafe\" experimental feature for now that's \n",
    "not available in Python. If you want to use it for something, get in touch :)"
   ]
  }
 ],
 "metadata": {
  "kernelspec": {
   "display_name": "Python 3 (ipykernel)",
   "language": "python",
   "name": "python3"
  },
  "language_info": {
   "codemirror_mode": {
    "name": "ipython",
    "version": 3
   },
   "file_extension": ".py",
   "mimetype": "text/x-python",
   "name": "python",
   "nbconvert_exporter": "python",
   "pygments_lexer": "ipython3",
   "version": "3.10.6"
  }
 },
 "nbformat": 4,
 "nbformat_minor": 5
}
